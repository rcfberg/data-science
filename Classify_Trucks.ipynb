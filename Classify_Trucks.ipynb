{
  "nbformat": 4,
  "nbformat_minor": 0,
  "metadata": {
    "colab": {
      "name": "Classify_Trucks.ipynb",
      "provenance": [],
      "authorship_tag": "ABX9TyNzxsxyS8uzQnxhQtKyDRWm",
      "include_colab_link": true
    },
    "kernelspec": {
      "name": "python3",
      "display_name": "Python 3"
    },
    "language_info": {
      "name": "python"
    }
  },
  "cells": [
    {
      "cell_type": "markdown",
      "metadata": {
        "id": "view-in-github",
        "colab_type": "text"
      },
      "source": [
        "<a href=\"https://colab.research.google.com/github/rcfberg/data_science/blob/master/Classify_Trucks.ipynb\" target=\"_parent\"><img src=\"https://colab.research.google.com/assets/colab-badge.svg\" alt=\"Open In Colab\"/></a>"
      ]
    },
    {
      "cell_type": "markdown",
      "source": [
        "#Robin Forsberg 2022"
      ],
      "metadata": {
        "id": "KVl8rX3WuSv2"
      }
    },
    {
      "cell_type": "code",
      "execution_count": null,
      "metadata": {
        "id": "nUD8FGUFuL3L"
      },
      "outputs": [],
      "source": [
        "import tensorflow as tf"
      ]
    },
    {
      "cell_type": "code",
      "source": [
        "def classify_trucks():\n",
        "    model = tf.keras.models.Sequential(\n",
        "        [\n",
        "            tf.keras.layers.Conv2D(\n",
        "                16, (3, 3), activation=\"relu\", input_shape=(224, 224, 3), kernel_initializer=\"he_normal\"\n",
        "            ),\n",
        "            tf.keras.layers.MaxPooling2D((2, 2)),\n",
        "            tf.keras.layers.Conv2D(32, (3, 3), activation=\"relu\", kernel_initializer=\"he_normal\"),\n",
        "            tf.keras.layers.MaxPooling2D((2, 2)),\n",
        "            tf.keras.layers.Conv2D(64, (3, 3), activation=\"relu\", kernel_initializer=\"he_normal\"),\n",
        "            tf.keras.layers.Flatten(),\n",
        "            tf.keras.layers.Dense(20, activation=\"relu\", kernel_initializer=\"he_normal\"),\n",
        "            tf.keras.layers.Dense(1, activation=\"sigmoid\", kernel_initializer=\"glorot_normal\"),\n",
        "        ]\n",
        "    )\n",
        "\n",
        "    model.compile(\n",
        "        optimizer=tf.keras.optimizers.Adam(learning_rate=0.01),\n",
        "        loss=tf.keras.losses.BinaryCrossentropy(),\n",
        "        metrics=[\"binary_accuracy\"],\n",
        "    )\n",
        "\n",
        "    return model"
      ],
      "metadata": {
        "id": "MSoz7GUZua5j"
      },
      "execution_count": null,
      "outputs": []
    }
  ]
}