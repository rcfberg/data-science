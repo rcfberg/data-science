{
  "nbformat": 4,
  "nbformat_minor": 0,
  "metadata": {
    "colab": {
      "name": "Predict_Cancellations.ipynb",
      "provenance": [],
      "authorship_tag": "ABX9TyPn5yI4IdMdQ0zPXc/Uo76V",
      "include_colab_link": true
    },
    "kernelspec": {
      "name": "python3",
      "display_name": "Python 3"
    },
    "language_info": {
      "name": "python"
    }
  },
  "cells": [
    {
      "cell_type": "markdown",
      "metadata": {
        "id": "view-in-github",
        "colab_type": "text"
      },
      "source": [
        "<a href=\"https://colab.research.google.com/github/rcfberg/data_science/blob/master/Predict_Cancellations.ipynb\" target=\"_parent\"><img src=\"https://colab.research.google.com/assets/colab-badge.svg\" alt=\"Open In Colab\"/></a>"
      ]
    },
    {
      "cell_type": "code",
      "execution_count": null,
      "metadata": {
        "id": "-7BGVdGxcrWs"
      },
      "outputs": [],
      "source": [
        "from pyspark.ml.classification import LogisticRegression"
      ]
    },
    {
      "cell_type": "code",
      "source": [
        "from pyspark.ml.feature import VectorAssembler\n"
      ],
      "metadata": {
        "id": "RDPk2xvLeF64"
      },
      "execution_count": null,
      "outputs": []
    },
    {
      "cell_type": "code",
      "source": [
        "def predict_cancellations(user_interaction_df):\n",
        "    assembler = VectorAssembler(\n",
        "        inputCols=[\"month_interaction_count\", \"week_interaction_count\", \"day_interaction_count\"], outputCol=\"features\"\n",
        "    )"
      ],
      "metadata": {
        "id": "81E7mfdoeJwG"
      },
      "execution_count": null,
      "outputs": []
    },
    {
      "cell_type": "code",
      "source": [
        "features_df = assembler.transform(user_interaction_df)\n"
      ],
      "metadata": {
        "id": "-EKddC11eMo-"
      },
      "execution_count": null,
      "outputs": []
    },
    {
      "cell_type": "code",
      "source": [
        "features_df = features_df.withColumn(\"label\", features_df[\"cancelled_within_week\"])\n"
      ],
      "metadata": {
        "id": "KFyqK150eO1s"
      },
      "execution_count": null,
      "outputs": []
    },
    {
      "cell_type": "code",
      "source": [
        "lr_model = LogisticRegression(maxIter=10, threshold=0.6, elasticNetParam=1, regParam=0.1)\n"
      ],
      "metadata": {
        "id": "w9D8PzwieQFc"
      },
      "execution_count": null,
      "outputs": []
    },
    {
      "cell_type": "code",
      "source": [
        "trained_lr_model = lr_model.fit(features_df)\n"
      ],
      "metadata": {
        "id": "ADpbHpfueRZ2"
      },
      "execution_count": null,
      "outputs": []
    },
    {
      "cell_type": "code",
      "source": [
        "predictions_df = trained_lr_model.transform(features_df)\n"
      ],
      "metadata": {
        "id": "cpo1Hhe2eSpf"
      },
      "execution_count": null,
      "outputs": []
    },
    {
      "cell_type": "code",
      "source": [
        "predictions_df = predictions_df.select([\"user_id\", \"rawPrediction\", \"probability\", \"prediction\"])\n"
      ],
      "metadata": {
        "id": "_TOMhvmPeT9I"
      },
      "execution_count": null,
      "outputs": []
    },
    {
      "cell_type": "code",
      "source": [
        "return predictions_df"
      ],
      "metadata": {
        "id": "GFO-NpQ8eVD_"
      },
      "execution_count": null,
      "outputs": []
    }
  ]
}